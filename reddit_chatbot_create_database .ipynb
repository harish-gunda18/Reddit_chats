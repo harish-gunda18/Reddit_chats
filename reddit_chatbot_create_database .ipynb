{
 "cells": [
  {
   "cell_type": "markdown",
   "metadata": {},
   "source": [
    "## Creation of database with parent-comment pairs from Reddit JSON"
   ]
  },
  {
   "cell_type": "code",
   "execution_count": null,
   "metadata": {},
   "outputs": [],
   "source": [
    "#loading all the required packages\n",
    "import sqlite3\n",
    "import json\n",
    "import pandas as pd"
   ]
  },
  {
   "cell_type": "code",
   "execution_count": 5,
   "metadata": {},
   "outputs": [
    {
     "data": {
      "text/plain": [
       "<sqlite3.Cursor at 0x7fa75cf3fdc0>"
      ]
     },
     "execution_count": 5,
     "metadata": {},
     "output_type": "execute_result"
    }
   ],
   "source": [
    "#creating the db file and reddit comment(rc) table\n",
    "db_file=r'reddit_comments.db'\n",
    "conn = sqlite3.connect(db_file)\n",
    "cur=conn.cursor()\n",
    "cur.execute(\"\"\"CREATE TABLE IF NOT EXISTS rc (\n",
    "parent_id TEXT PRIMARY KEY,\n",
    "comment_id TEXT UNIQUE,\n",
    "pcomment TEXT,\n",
    "comment TEXT,\n",
    "score INT,\n",
    "subreddit TEXT)\"\"\")"
   ]
  },
  {
   "cell_type": "markdown",
   "metadata": {},
   "source": [
    "## All the required helper functions"
   ]
  },
  {
   "cell_type": "code",
   "execution_count": 118,
   "metadata": {},
   "outputs": [],
   "source": [
    "transact=[]\n",
    "def time_saver(sql):\n",
    "    global transact\n",
    "    transact.append(sql)\n",
    "    if len(transact)>1000:\n",
    "        cur.execute(\"\"\"BEGIN TRANSACTION\"\"\")\n",
    "        for t in transact:\n",
    "            try:\n",
    "                cur.execute(t)\n",
    "            except Exception as e:\n",
    "                #print(e)\n",
    "                #print(sql)\n",
    "                pass\n",
    "        conn.commit()\n",
    "        transact=[]\n",
    "\n",
    "def parent_exists(pid):\n",
    "    try:\n",
    "        cur.execute(\"SELECT comment from rc WHERE comment_id='{}'\".format(pid))\n",
    "        rows=cur.fetchone()\n",
    "        if rows==None:\n",
    "            return False\n",
    "        return rows[0]\n",
    "    except:\n",
    "        return False\n",
    "\n",
    "def accept(comment):\n",
    "    if len(comment)>1000:\n",
    "        return False\n",
    "    elif len(comment.split(' '))>50 or len(comment.split(' '))<1:\n",
    "        return False\n",
    "    elif comment=='[deleted]' or comment=='[removed]':\n",
    "        return False\n",
    "    else:\n",
    "        return True\n",
    "\n",
    "def score_exists(pid):\n",
    "    cur.execute(\"SELECT score from rc WHERE parent_id = '{}'\".format(pid))\n",
    "    rows=cur.fetchone()\n",
    "    if rows == None:\n",
    "        return False\n",
    "    return rows[0]\n",
    "    \n",
    "def update_score_exists(cid,body,rank,pid):\n",
    "    sql=\"\"\"UPDATE rc SET comment_id=\"{}\",comment=\"{}\",score={} WHERE \n",
    "    parent_id='{}'\"\"\".format(cid,body,rank,pid)\n",
    "    time_saver(sql)\n",
    "\n",
    "def insert_parent_exists(cid,body,sred,pid,pbody,rank):\n",
    "    sql=\"\"\"INSERT INTO rc (comment_id,comment,subreddit,parent_id,pcomment,score) VALUES\n",
    "    (\"{}\",\"{}\",\"{}\",\"{}\",\"{}\",{})\"\"\".format(cid,body,sred,pid,pbody,rank)\n",
    "    time_saver(sql)\n",
    "\n",
    "def insert_no_parent(cid,body,sred,pid,rank):\n",
    "    sql=\"\"\"INSERT INTO rc (comment_id,comment,subreddit,parent_id,score) VALUES \n",
    "    (\"{}\",\"{}\",\"{}\",\"{}\",{})\"\"\".format(cid,body,sred,pid,rank)\n",
    "    time_saver(sql)"
   ]
  },
  {
   "cell_type": "code",
   "execution_count": 131,
   "metadata": {},
   "outputs": [
    {
     "name": "stdout",
     "output_type": "stream",
     "text": [
      "-1\n"
     ]
    }
   ],
   "source": [
    "cur.execute(\"\"\"DELETE FROM rc\"\"\")\n",
    "cur.execute(\"\"\"SELECT * FROM rc\"\"\")\n",
    "print(cur.rowcount)"
   ]
  },
  {
   "cell_type": "code",
   "execution_count": 132,
   "metadata": {},
   "outputs": [
    {
     "name": "stdout",
     "output_type": "stream",
     "text": [
      "rows processed= 5000000\n",
      "pairs generated= 228443\n",
      "rows processed= 10000000\n",
      "pairs generated= 468548\n",
      "rows processed= 15000000\n",
      "pairs generated= 708503\n",
      "rows processed= 25000000\n",
      "pairs generated= 1184987\n",
      "rows processed= 30000000\n",
      "pairs generated= 1424514\n",
      "rows processed= 35000000\n",
      "pairs generated= 1660413\n",
      "rows processed= 40000000\n",
      "pairs generated= 1898777\n",
      "rows processed= 50000000\n",
      "pairs generated= 2373341\n"
     ]
    }
   ],
   "source": [
    "row_count=0\n",
    "pairs=0\n",
    "check1=False\n",
    "check2=False\n",
    "chaeck3=False\n",
    "with open(\"/home/harish_gunda16/RC_2015-01\") as file:\n",
    "    for line in file:\n",
    "        row_count+=1\n",
    "        line=json.loads(line)\n",
    "        cid=line['name']\n",
    "        body=line['body'].replace('\\n',' ').replace('\"',\"'\")\n",
    "        rank=line['score']\n",
    "        sred=line['subreddit']\n",
    "        pid=line['parent_id']\n",
    "        if rank>2:\n",
    "            if accept(body):\n",
    "                curr_rank=score_exists(pid)\n",
    "                if curr_rank!=False:\n",
    "                    if rank>curr_rank:\n",
    "                        update_score_exists(cid,body,rank,pid)\n",
    "                        check1=True\n",
    "                pbody=parent_exists(pid)\n",
    "                if pbody!=False:\n",
    "                    insert_parent_exists(cid,body,sred,pid,pbody,rank)\n",
    "                    check2=True\n",
    "                    pairs+=1\n",
    "                else:\n",
    "                    insert_no_parent(cid,body,sred,pid,rank)\n",
    "                    check3=True\n",
    "        if (row_count%5000000)==0:\n",
    "            print('rows processed=',row_count)\n",
    "            print('pairs generated=',pairs)"
   ]
  },
  {
   "cell_type": "code",
   "execution_count": 151,
   "metadata": {},
   "outputs": [
    {
     "data": {
      "text/plain": [
       "2557199"
      ]
     },
     "execution_count": 151,
     "metadata": {},
     "output_type": "execute_result"
    }
   ],
   "source": [
    "pairs"
   ]
  },
  {
   "cell_type": "code",
   "execution_count": 154,
   "metadata": {},
   "outputs": [],
   "source": [
    "input=pd.read_sql(\"SELECT * FROM rc WHERE parent_id IS NOT NULL LIMIT 100\",conn)"
   ]
  },
  {
   "cell_type": "code",
   "execution_count": 153,
   "metadata": {},
   "outputs": [
    {
     "data": {
      "text/html": [
       "<div>\n",
       "<style scoped>\n",
       "    .dataframe tbody tr th:only-of-type {\n",
       "        vertical-align: middle;\n",
       "    }\n",
       "\n",
       "    .dataframe tbody tr th {\n",
       "        vertical-align: top;\n",
       "    }\n",
       "\n",
       "    .dataframe thead th {\n",
       "        text-align: right;\n",
       "    }\n",
       "</style>\n",
       "<table border=\"1\" class=\"dataframe\">\n",
       "  <thead>\n",
       "    <tr style=\"text-align: right;\">\n",
       "      <th></th>\n",
       "      <th>parent_id</th>\n",
       "      <th>comment_id</th>\n",
       "      <th>pcomment</th>\n",
       "      <th>comment</th>\n",
       "      <th>score</th>\n",
       "      <th>subreddit</th>\n",
       "    </tr>\n",
       "  </thead>\n",
       "  <tbody>\n",
       "    <tr>\n",
       "      <th>0</th>\n",
       "      <td>t3_2r0rom</td>\n",
       "      <td>t1_cnbbfee</td>\n",
       "      <td>None</td>\n",
       "      <td>Tumblr, not even once. It's worse than meth wh...</td>\n",
       "      <td>95</td>\n",
       "      <td>TumblrInAction</td>\n",
       "    </tr>\n",
       "    <tr>\n",
       "      <th>1</th>\n",
       "      <td>t3_2r1ruk</td>\n",
       "      <td>t1_cnbnb5u</td>\n",
       "      <td>None</td>\n",
       "      <td>When I run the same play twice in a row in NCA...</td>\n",
       "      <td>1024</td>\n",
       "      <td>CFB</td>\n",
       "    </tr>\n",
       "    <tr>\n",
       "      <th>2</th>\n",
       "      <td>t1_cnbkf1f</td>\n",
       "      <td>t1_cnbn4j0</td>\n",
       "      <td>Yeah, probably.</td>\n",
       "      <td>If she can't say yes on the spot, I'd legit re...</td>\n",
       "      <td>11</td>\n",
       "      <td>AskMen</td>\n",
       "    </tr>\n",
       "    <tr>\n",
       "      <th>3</th>\n",
       "      <td>t1_cnbn0v1</td>\n",
       "      <td>t1_cnbn3nz</td>\n",
       "      <td>None</td>\n",
       "      <td>Oh. Now I understand what he means.</td>\n",
       "      <td>7</td>\n",
       "      <td>todayilearned</td>\n",
       "    </tr>\n",
       "    <tr>\n",
       "      <th>4</th>\n",
       "      <td>t1_cnbmr7j</td>\n",
       "      <td>t1_cnbn4j5</td>\n",
       "      <td>None</td>\n",
       "      <td>Kim Jong Un is in Australia?</td>\n",
       "      <td>13</td>\n",
       "      <td>gifs</td>\n",
       "    </tr>\n",
       "  </tbody>\n",
       "</table>\n",
       "</div>"
      ],
      "text/plain": [
       "    parent_id  comment_id          pcomment  \\\n",
       "0   t3_2r0rom  t1_cnbbfee              None   \n",
       "1   t3_2r1ruk  t1_cnbnb5u              None   \n",
       "2  t1_cnbkf1f  t1_cnbn4j0  Yeah, probably.    \n",
       "3  t1_cnbn0v1  t1_cnbn3nz              None   \n",
       "4  t1_cnbmr7j  t1_cnbn4j5              None   \n",
       "\n",
       "                                             comment  score       subreddit  \n",
       "0  Tumblr, not even once. It's worse than meth wh...     95  TumblrInAction  \n",
       "1  When I run the same play twice in a row in NCA...   1024             CFB  \n",
       "2  If she can't say yes on the spot, I'd legit re...     11          AskMen  \n",
       "3                Oh. Now I understand what he means.      7   todayilearned  \n",
       "4                       Kim Jong Un is in Australia?     13            gifs  "
      ]
     },
     "execution_count": 153,
     "metadata": {},
     "output_type": "execute_result"
    }
   ],
   "source": [
    "input.head()"
   ]
  },
  {
   "cell_type": "code",
   "execution_count": null,
   "metadata": {},
   "outputs": [],
   "source": []
  }
 ],
 "metadata": {
  "kernelspec": {
   "display_name": "Python 3",
   "language": "python",
   "name": "python3"
  },
  "language_info": {
   "codemirror_mode": {
    "name": "ipython",
    "version": 3
   },
   "file_extension": ".py",
   "mimetype": "text/x-python",
   "name": "python",
   "nbconvert_exporter": "python",
   "pygments_lexer": "ipython3",
   "version": "3.5.3"
  }
 },
 "nbformat": 4,
 "nbformat_minor": 2
}
